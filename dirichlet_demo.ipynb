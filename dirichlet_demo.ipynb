{
 "cells": [
  {
   "cell_type": "markdown",
   "metadata": {
    "slideshow": {
     "slide_type": "slide"
    }
   },
   "source": [
    "# Demonstrating the Dirichlet Distribution\n",
    "\n",
    "### and changes in the document-topic-matrix in an LDA based on the prior $\\alpha$\n",
    "\n",
    "Run the notebook and interact with the parameter alpha. Start by increasing the values from 0.1 to 10 and observe how the topic distribution changes.\n",
    "\n",
    "You can also interact with the advanced option providing a skewed alpha."
   ]
  },
  {
   "cell_type": "code",
   "execution_count": 1,
   "metadata": {
    "slideshow": {
     "slide_type": "slide"
    }
   },
   "outputs": [],
   "source": [
    "import numpy as np\n",
    "from ipywidgets import interact, interactive, fixed\n",
    "import ipywidgets as widgets\n",
    "import matplotlib.pyplot as plt\n",
    "%matplotlib inline"
   ]
  },
  {
   "cell_type": "code",
   "execution_count": 2,
   "metadata": {
    "slideshow": {
     "slide_type": "subslide"
    }
   },
   "outputs": [],
   "source": [
    "N_TOPICS = 5\n",
    "N_DOCS = 9"
   ]
  },
  {
   "cell_type": "code",
   "execution_count": 3,
   "metadata": {},
   "outputs": [],
   "source": [
    "alpha = [0.1, 0.5, 1, 5, 10, \"advanced: random skew\"]"
   ]
  },
  {
   "cell_type": "code",
   "execution_count": 4,
   "metadata": {},
   "outputs": [
    {
     "data": {
      "application/vnd.jupyter.widget-view+json": {
       "model_id": "4843f3e37ccf4949b16016783c944879",
       "version_major": 2,
       "version_minor": 0
      },
      "text/plain": [
       "interactive(children=(Dropdown(description='a', options=(0.1, 0.5, 1, 5, 10, 'advanced: random skew'), value=0…"
      ]
     },
     "metadata": {},
     "output_type": "display_data"
    }
   ],
   "source": [
    "@interact(a=alpha)\n",
    "def show_random(a):\n",
    "    if a == \"advanced: random skew\":\n",
    "        alpha = np.random.logistic(10,10,N_TOPICS)\n",
    "        alpha = np.maximum(alpha, 0.1) / 10\n",
    "    else:\n",
    "        alpha = [a]*N_TOPICS\n",
    "        \n",
    "    print(f'alpha = {alpha}')\n",
    "    \n",
    "    fig, ax = plt.subplots(3,3, sharex=True, sharey=True, figsize=(8,8))\n",
    "    for i in range(3):\n",
    "        for j in range(3):\n",
    "            doc_topics_dists = np.random.dirichlet(alpha, 1)\n",
    "            ax[i, j].bar(range(N_TOPICS), doc_topics_dists[0])\n",
    "            ax[i, j].set_ylim(0, 1)\n",
    "    plt.suptitle('Document-Topic-Distribution for 9 Documents and 5 Topics', fontsize=16)\n",
    "    plt.show()"
   ]
  }
 ],
 "metadata": {
  "kernelspec": {
   "display_name": "Python 3",
   "language": "python",
   "name": "python3"
  },
  "language_info": {
   "codemirror_mode": {
    "name": "ipython",
    "version": 3
   },
   "file_extension": ".py",
   "mimetype": "text/x-python",
   "name": "python",
   "nbconvert_exporter": "python",
   "pygments_lexer": "ipython3",
   "version": "3.6.10"
  }
 },
 "nbformat": 4,
 "nbformat_minor": 2
}
